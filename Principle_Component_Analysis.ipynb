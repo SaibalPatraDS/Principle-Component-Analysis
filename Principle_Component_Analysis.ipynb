{
  "nbformat": 4,
  "nbformat_minor": 0,
  "metadata": {
    "colab": {
      "name": "Principle Component Analysis.ipynb",
      "private_outputs": true,
      "provenance": [],
      "collapsed_sections": [],
      "authorship_tag": "ABX9TyODZ/QhOD0GAzKDLpOpZQyI"
    },
    "kernelspec": {
      "name": "python3",
      "display_name": "Python 3"
    },
    "language_info": {
      "name": "python"
    }
  },
  "cells": [
    {
      "cell_type": "markdown",
      "source": [
        "## importing libraries"
      ],
      "metadata": {
        "id": "82BY--hbefB0"
      }
    },
    {
      "cell_type": "code",
      "execution_count": null,
      "metadata": {
        "id": "5dfnSKC0igLd"
      },
      "outputs": [],
      "source": [
        "import pandas as pd\n",
        "import numpy as np\n",
        "import random as rd\n",
        "from sklearn import preprocessing\n",
        "from sklearn.decomposition import PCA\n",
        "import matplotlib.pyplot as plt"
      ]
    },
    {
      "cell_type": "markdown",
      "source": [
        "## generating data"
      ],
      "metadata": {
        "id": "SFYjz4tsg1c_"
      }
    },
    {
      "cell_type": "code",
      "source": [
        "genes = ['gene' + str(i) for i in range(1, 10001)]\n",
        "wt = ['wt' + str(i) for i in range(1, 6)]\n",
        "ko = ['ko' + str(i) for i in range(1, 6)]"
      ],
      "metadata": {
        "id": "2Tj5jwDge0MC"
      },
      "execution_count": null,
      "outputs": []
    },
    {
      "cell_type": "markdown",
      "source": [
        "## creating the dataframe to store the data"
      ],
      "metadata": {
        "id": "e6vj0a5IlQCs"
      }
    },
    {
      "cell_type": "code",
      "source": [
        "data = pd.DataFrame(columns = [*wt, *ko], index = genes)"
      ],
      "metadata": {
        "id": "meN75C8Ng_Ja"
      },
      "execution_count": null,
      "outputs": []
    },
    {
      "cell_type": "markdown",
      "source": [
        "### the star unpack the wt, ko, so that the columns names are in a single array that looks like this: \n",
        "[wt1, wt2, wt3, wt4, ....., ko1, ko2, ko3...., ko6]\n",
        "### Without the stars we would have created an array of two arrays, and they wouldn't create 12 columns like we want:\n",
        "[[wt1, wt2, wt3, .....],[ko1, ko2, ko3....]]"
      ],
      "metadata": {
        "id": "IH-YoOK3lk0n"
      }
    },
    {
      "cell_type": "code",
      "source": [
        "for gene in data.index:\n",
        "    data.loc[gene, 'wt1':'wt5'] = np.random.poisson(lam = rd.randrange(10, 1000), size = 5)\n",
        "    data.loc[gene, 'ko1':'ko5'] = np.random.poisson(lam = rd.randrange(10, 1000), size = 5)"
      ],
      "metadata": {
        "id": "q7Lzos2olf1M"
      },
      "execution_count": null,
      "outputs": []
    },
    {
      "cell_type": "markdown",
      "source": [
        "### np.random.poisson, implies that made up data come from two poisson distributions: one for wt and one for ko samples"
      ],
      "metadata": {
        "id": "q3l0vvJtnX-l"
      }
    },
    {
      "cell_type": "markdown",
      "source": [
        "## Lookup the data"
      ],
      "metadata": {
        "id": "ZcN2_0bansgI"
      }
    },
    {
      "cell_type": "code",
      "source": [
        "data.head()"
      ],
      "metadata": {
        "id": "1FsO72jKnKYw"
      },
      "execution_count": null,
      "outputs": []
    },
    {
      "cell_type": "code",
      "source": [
        "data.shape"
      ],
      "metadata": {
        "id": "j9AnE-VCnw8I"
      },
      "execution_count": null,
      "outputs": []
    },
    {
      "cell_type": "markdown",
      "source": [
        "## Center and Scale the data"
      ],
      "metadata": {
        "id": "RVubGg0EoOUB"
      }
    },
    {
      "cell_type": "markdown",
      "source": [
        "### Using sklearn, we can scale and center the data so that the mean of each gene is 0 and standard deviation of each gene is 1.\n",
        "### Alternatively, we could have used:\n",
        "      StandardScalar().fit_transform(data.T)\n",
        "\n",
        "For scaling the data, the method prefers to have the data in rows instead of columns. So, ensure that the data is stored row wise, otherwise use tranpose of the data.\n",
        "\n",
        "### After centering the mean of each gene will be 0 and after scalling the standard deviation for the values of each gene will be 1"
      ],
      "metadata": {
        "id": "R77UT24mommH"
      }
    },
    {
      "cell_type": "code",
      "source": [
        "## data.T is basically is transformation of the data\n",
        "scaled_data = preprocessing.scale(data.T)"
      ],
      "metadata": {
        "id": "1JgVmU0un7Ef"
      },
      "execution_count": null,
      "outputs": []
    },
    {
      "cell_type": "markdown",
      "source": [
        "In sklearn, the standard variation is calculated like, \n",
        "    \n",
        "```\n",
        "[(measurements - mean)^2]/(the number of measurements)\n",
        "```\n",
        "In R, using scale(), or prcomp(), variation is calculated as:\n",
        "\n",
        "```\n",
        "[(measurements - mean)^2]/(the number of measurements - 1)\n",
        "```\n",
        "Though, they don't make any difference in PCA analysis[good news]\n",
        "\n",
        "The bad news, these differences will have a minor effect the final graph.\n",
        "Because, the coordinates on the final graph come from multiplying the loading scores by the scaled values. "
      ],
      "metadata": {
        "id": "ZYzEFmk7t0E3"
      }
    },
    {
      "cell_type": "markdown",
      "source": [
        "## creating object for sklearn "
      ],
      "metadata": {
        "id": "RxgfWttPvvhk"
      }
    },
    {
      "cell_type": "code",
      "source": [
        "pca = PCA()"
      ],
      "metadata": {
        "id": "ViwavorgolDr"
      },
      "execution_count": null,
      "outputs": []
    },
    {
      "cell_type": "code",
      "source": [
        "pca.fit(scaled_data)\n",
        "pca_data = pca.transform(scaled_data)  # this is where we generate coordinates for the graph"
      ],
      "metadata": {
        "id": "BH6oXv4Qv7ff"
      },
      "execution_count": null,
      "outputs": []
    },
    {
      "cell_type": "markdown",
      "source": [
        "## we calculate the percentage of variation that each principle component accounts for"
      ],
      "metadata": {
        "id": "kCRoQmFWwXeP"
      }
    },
    {
      "cell_type": "code",
      "source": [
        "per_var = np.round(pca.explained_variance_ratio_*100, decimals = 1)"
      ],
      "metadata": {
        "id": "M1K50zY4wFyk"
      },
      "execution_count": null,
      "outputs": []
    },
    {
      "cell_type": "markdown",
      "source": [
        "## creating lables for scree plot"
      ],
      "metadata": {
        "id": "nhEPVugaw7Kl"
      }
    },
    {
      "cell_type": "code",
      "source": [
        "labels = ['PC' + str(i) for i in range(1, len(per_var)+1)]"
      ],
      "metadata": {
        "id": "YF5lguEFwx3h"
      },
      "execution_count": null,
      "outputs": []
    },
    {
      "cell_type": "markdown",
      "source": [
        "## plotting the graph"
      ],
      "metadata": {
        "id": "7bfVffPLxO33"
      }
    },
    {
      "cell_type": "code",
      "source": [
        "plt.bar(x = range(1, len(per_var)+1), height = per_var, tick_label = labels)\n",
        "plt.ylabel(\"Percentage of Explained Variance\")\n",
        "plt.xlabel(\"Principal Component\")\n",
        "plt.title(\"Scree Plot\")\n",
        "plt.show()"
      ],
      "metadata": {
        "id": "hS4hOZW2xN-J"
      },
      "execution_count": null,
      "outputs": []
    },
    {
      "cell_type": "markdown",
      "source": [
        "## drawing a pca plot"
      ],
      "metadata": {
        "id": "_A7Pro1CySSb"
      }
    },
    {
      "cell_type": "markdown",
      "source": [
        "we will put the new cordinates, created by pca.transform(scaled.data), into a nice matrix where the rows have sample labels, and the columns have PC labels."
      ],
      "metadata": {
        "id": "00mhyyczyaGW"
      }
    },
    {
      "cell_type": "code",
      "source": [
        "pca_df = pd.DataFrame(pca_data, index = [*wt, *ko], columns = labels)"
      ],
      "metadata": {
        "id": "Ds2rNvv5yEmI"
      },
      "execution_count": null,
      "outputs": []
    },
    {
      "cell_type": "markdown",
      "source": [
        "## scatter plot"
      ],
      "metadata": {
        "id": "eA8jqiFozAdT"
      }
    },
    {
      "cell_type": "code",
      "source": [
        "plt.scatter(pca_df.PC1, pca_df.PC2)\n",
        "plt.title(\"PCA Graph\")\n",
        "plt.xlabel('PC1 - {0}%'.format(per_var[0]))\n",
        "plt.ylabel('PC2 - {0}%'.format(per_var[1]))\n",
        "\n",
        "## loop genertaes the name of the samples\n",
        "for sample in pca_df.index:\n",
        "    plt.annotate(sample, (pca_df.PC1.loc[sample], pca_df.PC2.loc[sample]))\n",
        "\n",
        "plt.show()    "
      ],
      "metadata": {
        "id": "WSYixFP8y9iv"
      },
      "execution_count": null,
      "outputs": []
    },
    {
      "cell_type": "markdown",
      "source": [
        "Observation from PCA plot:\n",
        "    \n",
        "    1. wt samples are correlated with each other and ko samples are co-related with each other.\n",
        "    2. The seperation between wt and ko,samples prove that they are different from each other.  "
      ],
      "metadata": {
        "id": "G8FspwtH0h7n"
      }
    },
    {
      "cell_type": "markdown",
      "source": [
        "### Looking at the loading scores to gain some insights, which genes had influenced most on seperating the two clusters along the x-axis."
      ],
      "metadata": {
        "id": "sHEGVqaJ1w54"
      }
    },
    {
      "cell_type": "code",
      "source": [
        "# we will start by creating pandas series.\n",
        "loading_scores = pd.Series(pca.components_[0], index = genes) \n",
        "sorted_loading_scores = loading_scores.abs().sort_values(ascending = False)\n",
        "\n",
        "# top 10 indexes\n",
        "top_10_genes = sorted_loading_scores[0:10].index.values\n",
        "\n",
        "print(loading_scores[top_10_genes])"
      ],
      "metadata": {
        "id": "a_ymXV2Vz1sq"
      },
      "execution_count": null,
      "outputs": []
    },
    {
      "cell_type": "code",
      "source": [
        ""
      ],
      "metadata": {
        "id": "DKLyRzvL3EbF"
      },
      "execution_count": null,
      "outputs": []
    }
  ]
}